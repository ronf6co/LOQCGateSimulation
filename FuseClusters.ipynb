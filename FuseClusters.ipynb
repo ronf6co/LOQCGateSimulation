{
 "cells": [
  {
   "cell_type": "code",
   "execution_count": 7,
   "metadata": {
    "collapsed": true,
    "pycharm": {
     "name": "#%%\n"
    }
   },
   "outputs": [],
   "source": [
    "from Cluster import Cluster\n",
    "from FusionGate import FusionGate"
   ]
  },
  {
   "cell_type": "code",
   "execution_count": 4,
   "outputs": [],
   "source": [
    "c1 = Cluster(2)\n",
    "c2 = Cluster(2)\n",
    "c3 = Cluster(2)\n",
    "\n",
    "error_angle = 0.1\n",
    "error_axis = [1,0,0]\n",
    "fm = FusionGate(error_angle=-error_angle, error_axis=error_axis)\n",
    "fp = FusionGate(error_angle=error_angle, error_axis=error_axis)\n",
    "fi = FusionGate(error_angle=0, error_axis=error_axis)\n",
    "clicks = '00'"
   ],
   "metadata": {
    "collapsed": false,
    "pycharm": {
     "name": "#%%\n"
    }
   }
  },
  {
   "cell_type": "code",
   "execution_count": 8,
   "outputs": [
    {
     "name": "stdout",
     "output_type": "stream",
     "text": [
      "O-O ~ O-O\n"
     ]
    },
    {
     "ename": "AttributeError",
     "evalue": "type object 'Cluster' has no attribute 'fuseLinearClusters'",
     "output_type": "error",
     "traceback": [
      "\u001B[1;31m---------------------------------------------------------------------------\u001B[0m",
      "\u001B[1;31mAttributeError\u001B[0m                            Traceback (most recent call last)",
      "Cell \u001B[1;32mIn [8], line 3\u001B[0m\n\u001B[0;32m      1\u001B[0m \u001B[38;5;28mprint\u001B[39m(\u001B[38;5;124m\"\u001B[39m\u001B[38;5;124mO-O ~ O-O\u001B[39m\u001B[38;5;124m\"\u001B[39m)\n\u001B[1;32m----> 3\u001B[0m c12p \u001B[38;5;241m=\u001B[39m \u001B[43mCluster\u001B[49m\u001B[38;5;241;43m.\u001B[39;49m\u001B[43mfuseLinearClusters\u001B[49m(size_of_cluster\u001B[38;5;241m=\u001B[39m\u001B[38;5;241m2\u001B[39m, clicks\u001B[38;5;241m=\u001B[39m\u001B[38;5;124m'\u001B[39m\u001B[38;5;124m00\u001B[39m\u001B[38;5;124m'\u001B[39m, fusions\u001B[38;5;241m=\u001B[39m[fp])\n\u001B[0;32m      4\u001B[0m c12m \u001B[38;5;241m=\u001B[39m Cluster\u001B[38;5;241m.\u001B[39mfuseLinearClusters(size_of_cluster\u001B[38;5;241m=\u001B[39m\u001B[38;5;241m2\u001B[39m, clicks\u001B[38;5;241m=\u001B[39m\u001B[38;5;124m'\u001B[39m\u001B[38;5;124m00\u001B[39m\u001B[38;5;124m'\u001B[39m, fusions\u001B[38;5;241m=\u001B[39m[fm])\n\u001B[0;32m      5\u001B[0m c12i \u001B[38;5;241m=\u001B[39m Cluster\u001B[38;5;241m.\u001B[39mfuseLinearClusters(size_of_cluster\u001B[38;5;241m=\u001B[39m\u001B[38;5;241m2\u001B[39m, clicks\u001B[38;5;241m=\u001B[39m\u001B[38;5;124m'\u001B[39m\u001B[38;5;124m00\u001B[39m\u001B[38;5;124m'\u001B[39m, fusions\u001B[38;5;241m=\u001B[39m[fi])\n",
      "\u001B[1;31mAttributeError\u001B[0m: type object 'Cluster' has no attribute 'fuseLinearClusters'"
     ]
    }
   ],
   "source": [
    "\n",
    "\n"
   ],
   "metadata": {
    "collapsed": false,
    "pycharm": {
     "name": "#%%\n"
    }
   }
  },
  {
   "cell_type": "code",
   "execution_count": 15,
   "outputs": [
    {
     "name": "stdout",
     "output_type": "stream",
     "text": [
      "O-O ~ O-O ~ O-O\n",
      "Size: 2\n",
      "Q State:\n",
      "(0.504+0j)|00⟩\n",
      "(0.471-0.112j)|01⟩\n",
      "(0.497-0.077j)|10⟩\n",
      "(-0.47+0.193j)|11⟩\n",
      "\n",
      "Size: 2\n",
      "Q State:\n",
      "(0.501+0j)|00⟩\n",
      "(0.488-0.018j)|01⟩\n",
      "(0.509+0.02j)|10⟩\n",
      "(-0.501-0j)|11⟩\n",
      "\n",
      "Size: 2\n",
      "Q State:\n",
      "(0.5+0j)|00⟩\n",
      "(0.5+0j)|01⟩\n",
      "(0.5+0j)|10⟩\n",
      "(-0.5-0j)|11⟩\n",
      "\n",
      "PlusMinus dist from ideal : 0.015409955934087435\n",
      "PlusPlus dist from ideal : 0.01137153774998989\n"
     ]
    }
   ],
   "source": [
    "print(\"O-O ~ O-O ~ O-O\")\n",
    "co1pm = c1.fusion(other=c2, n1=1, n2=2, fusion_gate=fm, clicks='00')\n",
    "co2pm = co1pm.fusion(other=c3, n1=1, n2=2, fusion_gate=fp, clicks='00')\n",
    "print(co2pm)\n",
    "\n",
    "co1pp = c1.fusion(other=c2, n1=1, n2=2, fusion_gate=fp, clicks='00')\n",
    "co2pp = co1pp.fusion(other=c3, n1=1, n2=2, fusion_gate=fp, clicks='00')\n",
    "print(co2pp)\n",
    "\n",
    "co1i = c1.fusion(other=c2, n1=1, n2=2, fusion_gate=fi, clicks='00')\n",
    "co2i = co1i.fusion(other=c3, n1=1, n2=2, fusion_gate=fi, clicks='00')\n",
    "print(co2i)\n",
    "\n",
    "print(\"PlusMinus dist from ideal : \" + str(co2pm - co2i))\n",
    "print(\"PlusPlus dist from ideal : \" + str(co2pp - co2i))\n",
    "\n"
   ],
   "metadata": {
    "collapsed": false,
    "pycharm": {
     "name": "#%%\n"
    }
   }
  },
  {
   "cell_type": "code",
   "execution_count": null,
   "outputs": [],
   "source": [
    "\n",
    "\n",
    "c1 = Cluster(2)\n",
    "c2 = Cluster(2)\n",
    "c3 = Cluster(2)\n",
    "c4 = Cluster(2)\n",
    "\n",
    "fm = FusionGate(error_angle=-0.01, error_axis=[1, 0, 0])\n",
    "fp = FusionGate(error_angle=0.01, error_axis=[1, 0, 0])\n",
    "fi = FusionGate(error_angle=-0.0, error_axis=[1, 0, 0])\n",
    "\n",
    "co1pm = c1.fusion(other=c2, n1=1, n2=2, fusion_gate=fm, clicks='00')\n",
    "co2pm = co1pm.fusion(other=c3, n1=1, n2=2, fusion_gate=fp, clicks='00')\n",
    "co3ppm = co2pm.fusion(other=c4, n1=1, n2=2, fusion_gate=fp, clicks='00')\n",
    "print(co3ppm)\n",
    "\n",
    "co1pm = c1.fusion(other=c2, n1=1, n2=2, fusion_gate=fm, clicks='00')\n",
    "co2pm = co1pm.fusion(other=c3, n1=1, n2=2, fusion_gate=fp, clicks='00')\n",
    "co3mpm = co2pm.fusion(other=c4, n1=1, n2=2, fusion_gate=fm, clicks='00')\n",
    "print(co3mpm)\n",
    "\n",
    "co1pp = c1.fusion(other=c2, n1=1, n2=2, fusion_gate=fp, clicks='00')\n",
    "co2pp = co1pp.fusion(other=c3, n1=1, n2=2, fusion_gate=fp, clicks='00')\n",
    "co3pp = co2pp.fusion(other=c4, n1=1, n2=2, fusion_gate=fp, clicks='00')\n",
    "print(co3pp)\n",
    "\n",
    "co1i = c1.fusion(other=c2, n1=1, n2=2, fusion_gate=fi, clicks='00')\n",
    "co2i = co1i.fusion(other=c3, n1=1, n2=2, fusion_gate=fi, clicks='00')\n",
    "co3i = co1i.fusion(other=c4, n1=1, n2=2, fusion_gate=fi, clicks='00')\n",
    "print(co3i)\n",
    "\n",
    "print(\"PPM dist from ideal : \" + str(co3ppm - co3i))\n",
    "print(\"MPM dist from ideal : \" + str(co3mpm - co3i))\n",
    "print(\"PPP dist from ideal : \" + str(co3pp - co3i))\n",
    "print(\"PPP dist from ideal : \" + str(co3i - co3i))\n",
    "\n",
    "c1 = Cluster(2)\n",
    "c2 = Cluster(2)"
   ],
   "metadata": {
    "collapsed": false,
    "pycharm": {
     "name": "#%%\n"
    }
   }
  }
 ],
 "metadata": {
  "kernelspec": {
   "display_name": "Python 3",
   "language": "python",
   "name": "python3"
  },
  "language_info": {
   "codemirror_mode": {
    "name": "ipython",
    "version": 2
   },
   "file_extension": ".py",
   "mimetype": "text/x-python",
   "name": "python",
   "nbconvert_exporter": "python",
   "pygments_lexer": "ipython2",
   "version": "2.7.6"
  }
 },
 "nbformat": 4,
 "nbformat_minor": 0
}