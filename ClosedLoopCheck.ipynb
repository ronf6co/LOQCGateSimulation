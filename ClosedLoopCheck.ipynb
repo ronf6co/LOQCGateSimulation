{
 "cells": [
  {
   "cell_type": "code",
   "execution_count": null,
   "metadata": {
    "collapsed": true
   },
   "outputs": [],
   "source": [
    "import sympy as sp\n",
    "import numpy as np\n",
    "\n",
    "from Cluster import Cluster\n",
    "from FusionGate import FusionGate\n",
    "from photonic_circuit import PhotonicCircuit\n",
    "from main import runOverPMCombinations, best_combo_with_vs_without_rotation"
   ]
  },
  {
   "cell_type": "code",
   "execution_count": null,
   "outputs": [],
   "source": [
    "print(\"Init Fusion Gates...\")\n",
    "# a\n",
    "error_angle = 0.1\n",
    "error_axis = [0, 1, 0]\n",
    "fm = FusionGate(error_angle=-error_angle, error_axis=error_axis)\n",
    "fp = FusionGate(error_angle=error_angle, error_axis=error_axis)\n",
    "fi = FusionGate(error_angle=0, error_axis=error_axis)\n",
    "print(\"Done!\")"
   ],
   "metadata": {
    "collapsed": false,
    "pycharm": {
     "name": "#%%\n"
    }
   }
  },
  {
   "cell_type": "code",
   "execution_count": null,
   "outputs": [],
   "source": [],
   "metadata": {
    "collapsed": false,
    "pycharm": {
     "name": "#%%\n"
    }
   }
  }
 ],
 "metadata": {
  "kernelspec": {
   "display_name": "Python 3",
   "language": "python",
   "name": "python3"
  },
  "language_info": {
   "codemirror_mode": {
    "name": "ipython",
    "version": 2
   },
   "file_extension": ".py",
   "mimetype": "text/x-python",
   "name": "python",
   "nbconvert_exporter": "python",
   "pygments_lexer": "ipython2",
   "version": "2.7.6"
  }
 },
 "nbformat": 4,
 "nbformat_minor": 0
}